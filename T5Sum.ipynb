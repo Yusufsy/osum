{
  "nbformat": 4,
  "nbformat_minor": 0,
  "metadata": {
    "colab": {
      "provenance": [],
      "authorship_tag": "ABX9TyNSETNnAGDDoLy2grGJvWS8",
      "include_colab_link": true
    },
    "kernelspec": {
      "name": "python3",
      "display_name": "Python 3"
    }
  },
  "cells": [
    {
      "cell_type": "markdown",
      "metadata": {
        "id": "view-in-github",
        "colab_type": "text"
      },
      "source": [
        "<a href=\"https://colab.research.google.com/github/Yusufsy/osum/blob/main/T5Sum.ipynb\" target=\"_parent\"><img src=\"https://colab.research.google.com/assets/colab-badge.svg\" alt=\"Open In Colab\"/></a>"
      ]
    },
    {
      "cell_type": "code",
      "metadata": {
        "id": "PE-NFZxTR3nF",
        "colab": {
          "base_uri": "https://localhost:8080/"
        },
        "outputId": "5bd9f091-1129-45f0-909c-e13cad082db5"
      },
      "source": [
        "# Load the Drive helper and mount\n",
        "from google.colab import drive\n",
        "drive.mount('/content/drive')"
      ],
      "execution_count": null,
      "outputs": [
        {
          "output_type": "stream",
          "name": "stdout",
          "text": [
            "Mounted at /content/drive\n"
          ]
        }
      ]
    },
    {
      "cell_type": "code",
      "metadata": {
        "id": "cNHqdXn_ZyJw",
        "colab": {
          "base_uri": "https://localhost:8080/"
        },
        "outputId": "723f196f-f707-492e-8a69-2af88717cb57"
      },
      "source": [
        "!pip install transformers"
      ],
      "execution_count": null,
      "outputs": [
        {
          "output_type": "stream",
          "name": "stdout",
          "text": [
            "Looking in indexes: https://pypi.org/simple, https://us-python.pkg.dev/colab-wheels/public/simple/\n",
            "Collecting transformers\n",
            "  Downloading transformers-4.24.0-py3-none-any.whl (5.5 MB)\n",
            "\u001b[K     |████████████████████████████████| 5.5 MB 24.2 MB/s \n",
            "\u001b[?25hRequirement already satisfied: filelock in /usr/local/lib/python3.7/dist-packages (from transformers) (3.8.0)\n",
            "Requirement already satisfied: numpy>=1.17 in /usr/local/lib/python3.7/dist-packages (from transformers) (1.21.6)\n",
            "Requirement already satisfied: pyyaml>=5.1 in /usr/local/lib/python3.7/dist-packages (from transformers) (6.0)\n",
            "Requirement already satisfied: regex!=2019.12.17 in /usr/local/lib/python3.7/dist-packages (from transformers) (2022.6.2)\n",
            "Requirement already satisfied: tqdm>=4.27 in /usr/local/lib/python3.7/dist-packages (from transformers) (4.64.1)\n",
            "Requirement already satisfied: importlib-metadata in /usr/local/lib/python3.7/dist-packages (from transformers) (4.13.0)\n",
            "Requirement already satisfied: requests in /usr/local/lib/python3.7/dist-packages (from transformers) (2.23.0)\n",
            "Requirement already satisfied: packaging>=20.0 in /usr/local/lib/python3.7/dist-packages (from transformers) (21.3)\n",
            "Collecting tokenizers!=0.11.3,<0.14,>=0.11.1\n",
            "  Downloading tokenizers-0.13.1-cp37-cp37m-manylinux_2_17_x86_64.manylinux2014_x86_64.whl (7.6 MB)\n",
            "\u001b[K     |████████████████████████████████| 7.6 MB 53.1 MB/s \n",
            "\u001b[?25hCollecting huggingface-hub<1.0,>=0.10.0\n",
            "  Downloading huggingface_hub-0.10.1-py3-none-any.whl (163 kB)\n",
            "\u001b[K     |████████████████████████████████| 163 kB 45.0 MB/s \n",
            "\u001b[?25hRequirement already satisfied: typing-extensions>=3.7.4.3 in /usr/local/lib/python3.7/dist-packages (from huggingface-hub<1.0,>=0.10.0->transformers) (4.1.1)\n",
            "Requirement already satisfied: pyparsing!=3.0.5,>=2.0.2 in /usr/local/lib/python3.7/dist-packages (from packaging>=20.0->transformers) (3.0.9)\n",
            "Requirement already satisfied: zipp>=0.5 in /usr/local/lib/python3.7/dist-packages (from importlib-metadata->transformers) (3.10.0)\n",
            "Requirement already satisfied: idna<3,>=2.5 in /usr/local/lib/python3.7/dist-packages (from requests->transformers) (2.10)\n",
            "Requirement already satisfied: chardet<4,>=3.0.2 in /usr/local/lib/python3.7/dist-packages (from requests->transformers) (3.0.4)\n",
            "Requirement already satisfied: urllib3!=1.25.0,!=1.25.1,<1.26,>=1.21.1 in /usr/local/lib/python3.7/dist-packages (from requests->transformers) (1.24.3)\n",
            "Requirement already satisfied: certifi>=2017.4.17 in /usr/local/lib/python3.7/dist-packages (from requests->transformers) (2022.9.24)\n",
            "Installing collected packages: tokenizers, huggingface-hub, transformers\n",
            "Successfully installed huggingface-hub-0.10.1 tokenizers-0.13.1 transformers-4.24.0\n"
          ]
        }
      ]
    },
    {
      "cell_type": "code",
      "source": [
        "!pip install sentencepiece"
      ],
      "metadata": {
        "colab": {
          "base_uri": "https://localhost:8080/"
        },
        "id": "yqCGBY7_-jgO",
        "outputId": "bf6aa560-95db-4d8a-da79-ac454c233d8f"
      },
      "execution_count": null,
      "outputs": [
        {
          "output_type": "stream",
          "name": "stdout",
          "text": [
            "Looking in indexes: https://pypi.org/simple, https://us-python.pkg.dev/colab-wheels/public/simple/\n",
            "Collecting sentencepiece\n",
            "  Downloading sentencepiece-0.1.97-cp37-cp37m-manylinux_2_17_x86_64.manylinux2014_x86_64.whl (1.3 MB)\n",
            "\u001b[K     |████████████████████████████████| 1.3 MB 24.4 MB/s \n",
            "\u001b[?25hInstalling collected packages: sentencepiece\n",
            "Successfully installed sentencepiece-0.1.97\n"
          ]
        }
      ]
    },
    {
      "cell_type": "markdown",
      "metadata": {
        "id": "JpiGD-K5OlDt"
      },
      "source": [
        "GET AREA"
      ]
    },
    {
      "cell_type": "code",
      "metadata": {
        "id": "y7k4V3pgOj80",
        "colab": {
          "base_uri": "https://localhost:8080/",
          "height": 1000
        },
        "outputId": "697bb591-d0fb-4d53-d340-107d9b2cb258"
      },
      "source": [
        "# import the necessary packages\n",
        "from scipy.spatial import distance as dist\n",
        "from imutils import perspective\n",
        "from imutils import contours\n",
        "from google.colab.patches import cv2_imshow\n",
        "import numpy as np\n",
        "#import argparse\n",
        "import imutils\n",
        "import cv2\n",
        "def midpoint(ptA, ptB):\n",
        "\treturn ((ptA[0] + ptB[0]) * 0.5, (ptA[1] + ptB[1]) * 0.5)\n",
        "# construct the argument parse and parse the arguments\n",
        "#ap = argparse.ArgumentParser()\n",
        "#ap.add_argument(\"-i\", \"--image\", required=True,\n",
        "\t#help=\"path to the input image\")\n",
        "#ap.add_argument(\"-w\", \"--width\", type=float, required=True,\n",
        "\t#help=\"width of the left-most object in the image (in inches)\")\n",
        "#args = vars(ap.parse_args())\n",
        "\n",
        "# load the image, convert it to grayscale, and blur it slightly\n",
        "image = cv2.imread(\"/content/drive/My Drive/testimage2.jpg\")\n",
        "gray = cv2.cvtColor(image, cv2.COLOR_BGR2GRAY)\n",
        "gray = cv2.GaussianBlur(gray, (7, 7), 0)\n",
        "# perform edge detection, then perform a dilation + erosion to\n",
        "# close gaps in between object edges\n",
        "edged = cv2.Canny(gray, 50, 100)\n",
        "edged = cv2.dilate(edged, None, iterations=1)\n",
        "edged = cv2.erode(edged, None, iterations=1)\n",
        "# find contours in the edge map\n",
        "cnts = cv2.findContours(edged.copy(), cv2.RETR_EXTERNAL,\n",
        "\tcv2.CHAIN_APPROX_SIMPLE)\n",
        "cnts = imutils.grab_contours(cnts)\n",
        "# sort the contours from left-to-right and initialize the\n",
        "# 'pixels per metric' calibration variable\n",
        "(cnts, _) = contours.sort_contours(cnts)\n",
        "pixelsPerMetric = None\n",
        "\n",
        "# loop over the contours individually\n",
        "for c in cnts:\n",
        "\t# if the contour is not sufficiently large, ignore it\n",
        "\tif cv2.contourArea(c) < 100:\n",
        "\t\tcontinue\n",
        "\t# compute the rotated bounding box of the contour\n",
        "\torig = image.copy()\n",
        "\tbox = cv2.minAreaRect(c)\n",
        "\tbox = cv2.cv.BoxPoints(box) if imutils.is_cv2() else cv2.boxPoints(box)\n",
        "\tbox = np.array(box, dtype=\"int\")\n",
        "\t# order the points in the contour such that they appear\n",
        "\t# in top-left, top-right, bottom-right, and bottom-left\n",
        "\t# order, then draw the outline of the rotated bounding\n",
        "\t# box\n",
        "\tbox = perspective.order_points(box)\n",
        "\tcv2.drawContours(orig, [box.astype(\"int\")], -1, (0, 255, 0), 2)\n",
        "\t# loop over the original points and draw them\n",
        "\tfor (x, y) in box:\n",
        "\t\tcv2.circle(orig, (int(x), int(y)), 5, (0, 0, 255), -1)\n",
        "\t\t# unpack the ordered bounding box, then compute the midpoint\n",
        "\t\t# between the top-left and top-right coordinates, followed by\n",
        "\t\t# the midpoint between bottom-left and bottom-right coordinates\n",
        "\t\t(tl, tr, br, bl) = box\n",
        "\t\t(tltrX, tltrY) = midpoint(tl, tr)\n",
        "\t\t(blbrX, blbrY) = midpoint(bl, br)\n",
        "\t\t# compute the midpoint between the top-left and top-right points,\n",
        "\t\t# followed by the midpoint between the top-righ and bottom-right\n",
        "\t\t(tlblX, tlblY) = midpoint(tl, bl)\n",
        "\t\t(trbrX, trbrY) = midpoint(tr, br)\n",
        "\t\t# draw the midpoints on the image\n",
        "\t\tcv2.circle(orig, (int(tltrX), int(tltrY)), 5, (255, 0, 0), -1)\n",
        "\t\tcv2.circle(orig, (int(blbrX), int(blbrY)), 5, (255, 0, 0), -1)\n",
        "\t\tcv2.circle(orig, (int(tlblX), int(tlblY)), 5, (255, 0, 0), -1)\n",
        "\t\tcv2.circle(orig, (int(trbrX), int(trbrY)), 5, (255, 0, 0), -1)\n",
        "\t\t# draw lines between the midpoints\n",
        "\t\tcv2.line(orig, (int(tltrX), int(tltrY)), (int(blbrX), int(blbrY)),\n",
        "\t\t\t\t (255, 0, 255), 2)\n",
        "\t\tcv2.line(orig, (int(tlblX), int(tlblY)), (int(trbrX), int(trbrY)),\n",
        "\t\t\t\t (255, 0, 255), 2)\n",
        "\n",
        "\t\t# compute the Euclidean distance between the midpoints\n",
        "\t\tdA = dist.euclidean((tltrX, tltrY), (blbrX, blbrY))\n",
        "\t\tdB = dist.euclidean((tlblX, tlblY), (trbrX, trbrY))\n",
        "\t\t# if the pixels per metric has not been initialized, then\n",
        "\t\t# compute it as the ratio of pixels to supplied metric\n",
        "\t\t# (in this case, inches)\n",
        "\t\tif pixelsPerMetric is None:\n",
        "\t\t\tpixelsPerMetric = dB / 0.9\n",
        "\n",
        "\t\t# compute the size of the object\n",
        "\t\tdimA = dA / pixelsPerMetric\n",
        "\t\tdimB = dB / pixelsPerMetric\n",
        "\t\tarea = dimA * dimB\n",
        "\t\tprint(\"{:.1f}\".format(area))\n",
        "\t\t# draw the object sizes on the image\n",
        "\t\tcv2.putText(orig, \"{:.1f}in\".format(dimB),\n",
        "\t\t\t\t\t(int(tltrX - 15), int(tltrY - 10)), cv2.FONT_HERSHEY_SIMPLEX,\n",
        "\t\t\t\t\t0.65, (255, 255, 255), 2)\n",
        "\t\tcv2.putText(orig, \"{:.1f}in\".format(dimA),\n",
        "\t\t\t\t\t(int(trbrX + 10), int(trbrY)), cv2.FONT_HERSHEY_SIMPLEX,\n",
        "\t\t\t\t\t0.65, (255, 255, 255), 2)\n",
        "\t\t# show the output image\n",
        "\t\tcv2_imshow(orig)\n",
        "\t\t#cv2.waitKey(0)"
      ],
      "execution_count": null,
      "outputs": [
        {
          "output_type": "stream",
          "name": "stdout",
          "text": [
            "0.3\n"
          ]
        },
        {
          "output_type": "display_data",
          "data": {
            "text/plain": [
              "<PIL.Image.Image image mode=RGB size=560x575 at 0x7F05B8B745D0>"
            ],
            "image/png": "[encoded data removed]"
          },
          "metadata": {}
        },
        {
          "output_type": "stream",
          "name": "stdout",
          "text": [
            "0.3\n"
          ]
        },
        {
          "output_type": "display_data",
          "data": {
            "text/plain": [
              "<PIL.Image.Image image mode=RGB size=560x575 at 0x7F05B8B74950>"
            ],
            "image/png": "[encoded data removed]"
          },
          "metadata": {}
        },
        {
          "output_type": "stream",
          "name": "stdout",
          "text": [
            "0.3\n"
          ]
        },
        {
          "output_type": "display_data",
          "data": {
            "text/plain": [
              "<PIL.Image.Image image mode=RGB size=560x575 at 0x7F05B8AEF490>"
            ],
            "image/png": "[encoded data removed]"
          },
          "metadata": {}
        },
        {
          "output_type": "stream",
          "name": "stdout",
          "text": [
            "0.3\n"
          ]
        },
        {
          "output_type": "display_data",
          "data": {
            "text/plain": [
              "<PIL.Image.Image image mode=RGB size=560x575 at 0x7F05B8B74850>"
            ],
            "image/png": "[encoded data removed]"
          },
          "metadata": {}
        }
      ]
    },
    {
      "cell_type": "code",
      "metadata": {
        "id": "gWPtrx1xZhJm",
        "colab": {
          "base_uri": "https://localhost:8080/"
        },
        "outputId": "38dd2def-fbb6-4571-fe55-966a60acaab4"
      },
      "source": [
        "import torch\n",
        "import json\n",
        "from transformers import T5Tokenizer, T5ForConditionalGeneration, T5Config\n",
        "\n",
        "model = T5ForConditionalGeneration.from_pretrained('t5-small')\n",
        "tokenizer = T5Tokenizer.from_pretrained('t5-small')\n",
        "device = torch.device('cpu')\n",
        "\n",
        "text =\"\"\"\n",
        "a 49-year-old gunman who was holed up in a vintage blue bus has been shot dead following a seven-hour standoff with swat officers that involved heavy gunfire , tear gas and the use of an armored car .\n",
        "mark hawkins reportedly barricaded himself inside the greyhound-style bus in the parking lot of a walmart in salem , oregon , after he was approached by police , who believed him to be wanted .\n",
        "seconds later , hawkins , who was being hunted in lane county for failing to appear on a charge of delivery of a controlled substance , allegedly fired his weapon from the front of the large vehicle .\n",
        "the bullet struck a police dog named baco in the head , prompting an exchange of gunfire between officers and hawkins .\n",
        "numerous law enforcement agencies in the area then rushed to the scene .\n",
        "scroll down for video .\n",
        "wrecked : mark hawkins , 49 , who was holed up in a vintage blue bus has been shot dead following a seven-hour standoff with swat officers .\n",
        "above , the bus is pictured in a wrecked off after the standoff on friday .\n",
        "finally out : a law enforcement official is pictured dragging hawkins -lrb- whose limb can be seen in the official 's grip -rrb- out of the greyhound-style bus , which was situated in the parking lot of a walmart in salem , oregon .\n",
        "shot dead : the suspect -lrb- left and right -rrb- , who was wanted in lane county for failing to appear on a charge of delivery of a controlled substance , had barricaded himself in the vehicle after he was approached by police .\n",
        "in the hours after the first shot , which occurred shortly before noon on friday , swat officers and police fired more than a dozen rounds of tear gas at the bus in turner road - but to no avail .\n",
        "they locked down all shops in the area , including the walmart , as they attempted to force hawkins out of the vehicle .\n",
        "they finally decided to ram an armored car into the blue bus , according to koin.com .\n",
        "in incredible scenes , swat offers drove the car into the bus , punching holes in the larger vehicle .\n",
        "but the suspect apparently still refused to comply with officers and ` continued to brandish a handgun ' .\n",
        "at around 6.30 pm , police shot at the suspect multiple times .\n",
        "he was hit and wounded by nine bullets , causing him to slide out of the bus .\n",
        "he was then taken to a nearby hospital , where he later died . '\n",
        "-lsb- hawkins -rsb- has since died of his injuries , ' the salem police department said on friday night .\n",
        "it is not yet known whether the bus belonged to hawkins - and if not , how he managed to get into the vehicle .\n",
        "the officers involved in the shooting - officer joshua edmiston , officer vincent dawson and officer sean bennet - have now been placed on administrative leave pending an investigation , police said . . vintage : hawkins allegedly fired a weapon from the front of the large vehicle .\n",
        "the bullet struck a police dog named baco in the head , prompting an exchange of bullets between officers and hawkins .\n",
        "above , the bus .\n",
        "firing tear gas : in the hours after the first shot , which occurred shortly before noon on friday , swat officers and police fired more than a dozen rounds of tear gas -lrb- pictured -rrb- at the bus in turner road - but to no avail .\n",
        "lock down : they locked down all shops in the area , including the walmart , as they attempted to force hawkins out of the vehicle .\n",
        "they finally decided to ram an armored car into the bus , it is reported .\n",
        "meanwhile , k-9 baco was taken to a nearby vet , where he was treated and released .\n",
        "he is now recovering at home with his handler , according to the police department 's facebook page .\n",
        "an autopsy by the oregon state medical examiner on saturday showed that hawkins was shot nine times by officers during the standoff .\n",
        "he apparently died of gunshot wounds to the chest .\n",
        "on his facebook page , hawkins is pictured smiling while cuddling his pet dog at his eugene home .\n",
        "an investigation is ongoing . . recovering : the standoff occurred in the parking lot of this walmart -lrb- right -rrb- in turner road .\n",
        "k-9 baco -lrb- left -rrb- , who was injured in the shooting , was taken to a nearby vet , where he was treated and released ...\n",
        "\"\"\"\n",
        "\n",
        "\n",
        "preprocess_text = text.strip().replace(\"\\n\",\"\")\n",
        "t5_prepared_Text = \"summarize: \"+preprocess_text\n",
        "print (\"original text preprocessed: \\n\", preprocess_text)\n",
        "\n",
        "tokenized_text = tokenizer.encode(t5_prepared_Text, return_tensors=\"pt\").to(device)\n",
        "\n",
        "print(\"Area is: \")\n",
        "#print(area)\n",
        "max_space = area * 100\n",
        "print(round(max_space))\n",
        "# summmarize\n",
        "summary_ids = model.generate(tokenized_text,\n",
        "                                    num_beams=4,\n",
        "                                    no_repeat_ngram_size=5,\n",
        "                                    # min_length=10,\n",
        "                                    # max_length=50,\n",
        "                             max_new_token=50,\n",
        "                                    early_stopping=False)\n",
        "\n",
        "output = tokenizer.decode(summary_ids[0], skip_special_tokens=True)\n",
        "\n",
        "print (\"\\n\\nSummarized text: \\n\",output)\n",
        "\n",
        "# Summarized output from above ::::::::::\n",
        "# the us has over 637,000 confirmed Covid-19 cases and over 30,826 deaths.\n",
        "# president Donald Trump predicts some states will reopen the country in april, he said.\n",
        "# \"we'll be the comeback kids, all of us,\" the president says."
      ],
      "execution_count": null,
      "outputs": [
        {
          "output_type": "stream",
          "name": "stderr",
          "text": [
            "Token indices sequence length is longer than the specified maximum sequence length for this model (1183 > 512). Running this sequence through the model will result in indexing errors\n"
          ]
        },
        {
          "output_type": "stream",
          "name": "stdout",
          "text": [
            "original text preprocessed: \n",
            " a 49-year-old gunman who was holed up in a vintage blue bus has been shot dead following a seven-hour standoff with swat officers that involved heavy gunfire , tear gas and the use of an armored car .mark hawkins reportedly barricaded himself inside the greyhound-style bus in the parking lot of a walmart in salem , oregon , after he was approached by police , who believed him to be wanted .seconds later , hawkins , who was being hunted in lane county for failing to appear on a charge of delivery of a controlled substance , allegedly fired his weapon from the front of the large vehicle .the bullet struck a police dog named baco in the head , prompting an exchange of gunfire between officers and hawkins .numerous law enforcement agencies in the area then rushed to the scene .scroll down for video .wrecked : mark hawkins , 49 , who was holed up in a vintage blue bus has been shot dead following a seven-hour standoff with swat officers .above , the bus is pictured in a wrecked off after the standoff on friday .finally out : a law enforcement official is pictured dragging hawkins -lrb- whose limb can be seen in the official 's grip -rrb- out of the greyhound-style bus , which was situated in the parking lot of a walmart in salem , oregon .shot dead : the suspect -lrb- left and right -rrb- , who was wanted in lane county for failing to appear on a charge of delivery of a controlled substance , had barricaded himself in the vehicle after he was approached by police .in the hours after the first shot , which occurred shortly before noon on friday , swat officers and police fired more than a dozen rounds of tear gas at the bus in turner road - but to no avail .they locked down all shops in the area , including the walmart , as they attempted to force hawkins out of the vehicle .they finally decided to ram an armored car into the blue bus , according to koin.com .in incredible scenes , swat offers drove the car into the bus , punching holes in the larger vehicle .but the suspect apparently still refused to comply with officers and ` continued to brandish a handgun ' .at around 6.30 pm , police shot at the suspect multiple times .he was hit and wounded by nine bullets , causing him to slide out of the bus .he was then taken to a nearby hospital , where he later died . '-lsb- hawkins -rsb- has since died of his injuries , ' the salem police department said on friday night .it is not yet known whether the bus belonged to hawkins - and if not , how he managed to get into the vehicle .the officers involved in the shooting - officer joshua edmiston , officer vincent dawson and officer sean bennet - have now been placed on administrative leave pending an investigation , police said . . vintage : hawkins allegedly fired a weapon from the front of the large vehicle .the bullet struck a police dog named baco in the head , prompting an exchange of bullets between officers and hawkins .above , the bus .firing tear gas : in the hours after the first shot , which occurred shortly before noon on friday , swat officers and police fired more than a dozen rounds of tear gas -lrb- pictured -rrb- at the bus in turner road - but to no avail .lock down : they locked down all shops in the area , including the walmart , as they attempted to force hawkins out of the vehicle .they finally decided to ram an armored car into the bus , it is reported .meanwhile , k-9 baco was taken to a nearby vet , where he was treated and released .he is now recovering at home with his handler , according to the police department 's facebook page .an autopsy by the oregon state medical examiner on saturday showed that hawkins was shot nine times by officers during the standoff .he apparently died of gunshot wounds to the chest .on his facebook page , hawkins is pictured smiling while cuddling his pet dog at his eugene home .an investigation is ongoing . . recovering : the standoff occurred in the parking lot of this walmart -lrb- right -rrb- in turner road .k-9 baco -lrb- left -rrb- , who was injured in the shooting , was taken to a nearby vet , where he was treated and released ...\n",
            "Area is: \n",
            "34\n",
            "\n",
            "\n",
            "Summarized text: \n",
            " mark hawkins was shot nine times by police during the seven-hour standoff in salem, oregon on friday night after being approached and asked to get out of his car with an armord vehicle at 6.30pm.\n"
          ]
        }
      ]
    },
    {
      "cell_type": "code",
      "source": [
        "!pip install rouge"
      ],
      "metadata": {
        "colab": {
          "base_uri": "https://localhost:8080/"
        },
        "id": "xb7K_BwH3TRl",
        "outputId": "2798b162-00c5-443a-9f74-7dea49c67b74"
      },
      "execution_count": null,
      "outputs": [
        {
          "output_type": "stream",
          "name": "stdout",
          "text": [
            "Looking in indexes: https://pypi.org/simple, https://us-python.pkg.dev/colab-wheels/public/simple/\n",
            "Collecting rouge\n",
            "  Downloading rouge-1.0.1-py3-none-any.whl (13 kB)\n",
            "Requirement already satisfied: six in /usr/local/lib/python3.7/dist-packages (from rouge) (1.15.0)\n",
            "Installing collected packages: rouge\n",
            "Successfully installed rouge-1.0.1\n"
          ]
        }
      ]
    },
    {
      "cell_type": "code",
      "source": [
        "from rouge import Rouge\n",
        "\n",
        "hypothesis = \"mark hawkins was shot nine times by police during the seven-hour standoff in salem, oregon on friday night after being approached and asked to get out of his car with an armord vehicle at 6.30pm.\"\n",
        "\n",
        "reference = \"\"\"\n",
        "mark hawkins , 49 , allegedly barricaded himself inside a vintage blue bus .\n",
        "wanted for failing to appear in court for ` delivery of controlled substance ' during seven-hour standoff , hawkins ` shot and wounded police dog ' swat team fired over 12 rounds of tear gas in bid to force him out of bus .\n",
        "they finally decided to ram armored car into vehicle , punching holes in it .\n",
        "at about 6.30 pm friday , hawkins was shot nine times by cops ; later died .\n",
        "officers involved are on administrative leave ; an investigation is ongoing .\n",
        "\"\"\"\n",
        "\n",
        "rouge = Rouge()\n",
        "scores = rouge.get_scores(hypothesis, reference)\n",
        "scores"
      ],
      "metadata": {
        "colab": {
          "base_uri": "https://localhost:8080/"
        },
        "id": "hcqK1a8_CuwX",
        "outputId": "b05469c9-f986-4a98-fbcb-e1e9cbaf8e86"
      },
      "execution_count": null,
      "outputs": [
        {
          "output_type": "execute_result",
          "data": {
            "text/plain": [
              "[{'rouge-1': {'r': 0.2839506172839506,\n",
              "   'p': 0.6388888888888888,\n",
              "   'f': 0.39316238890203814},\n",
              "  'rouge-2': {'r': 0.08247422680412371,\n",
              "   'p': 0.22857142857142856,\n",
              "   'f': 0.12121211731519754},\n",
              "  'rouge-l': {'r': 0.2222222222222222, 'p': 0.5, 'f': 0.3076923034319527}}]"
            ]
          },
          "metadata": {},
          "execution_count": 77
        }
      ]
    }
  ]
}